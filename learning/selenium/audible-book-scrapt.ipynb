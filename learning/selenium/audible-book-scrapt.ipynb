{
 "cells": [
  {
   "cell_type": "code",
   "execution_count": 10,
   "metadata": {},
   "outputs": [],
   "source": [
    "from selenium import webdriver\n",
    "from selenium.webdriver.chrome.service import Service\n",
    "from selenium.webdriver.common.by import By\n",
    "from selenium.webdriver.chrome.options import Options\n",
    "from selenium.webdriver.support.ui import WebDriverWait\n",
    "from selenium.webdriver.support import expected_conditions as EC"
   ]
  },
  {
   "cell_type": "code",
   "execution_count": 17,
   "metadata": {},
   "outputs": [],
   "source": [
    "# Top best seller\n",
    "root_url = 'https://www.audible.com/adblbestsellers?ref_pageloadid=zczZf55x7irPQP6H&ref=a_ep_audiob_t1_navTop_pl0cg1c0r0&pf_rd_p=371ebad3-b9dd-4d26-9542-89be13712099&pf_rd_r=GK9A8SEXM19V3AWX31BX&pageLoadId=LXiG5fyDg2ousK0L&creativeId=711b5140-9c53-4812-acee-f4c553eb51fe'\n",
    "\n",
    "chrome_driver_path = r'D:\\Project\\Python\\chrome-driver\\chromedriver-win64\\chromedriver.exe'\n",
    "web_service = Service(executable_path=chrome_driver_path)\n",
    "\n",
    "# Configure web driver\n",
    "# web_option = Options()\n",
    "# web_option.add_argument(\"--headless\")  # hide GUI\n",
    "# web_option.add_argument(\"--window-size=1920,1080\")  # set window size to native GUI size\n",
    "# web_option.add_argument(\"start-maximized\")  # ensure window is full-screen\n",
    "\n",
    "web_driver = webdriver.Chrome(service=web_service, options=None)\n",
    "web_driver.get(url=root_url)"
   ]
  },
  {
   "cell_type": "code",
   "execution_count": 38,
   "metadata": {},
   "outputs": [
    {
     "data": {
      "text/plain": [
       "['1. Elon Musk',\n",
       " '2. Counting the Cost',\n",
       " '3. Tom Lake',\n",
       " '4. Holly',\n",
       " '5. Atomic Habits',\n",
       " '6. Fourth Wing',\n",
       " '7. None of This Is True',\n",
       " '8. The Covenant of Water',\n",
       " '9. Starter Villain',\n",
       " '10. Lessons in Chemistry',\n",
       " '11. Our Hideous Progeny',\n",
       " '12. Build the Life You Want',\n",
       " '13. Killers of the Flower Moon',\n",
       " '14. Outlive',\n",
       " '15. The Democrat Party Hates America',\n",
       " '16. Never Lie',\n",
       " '17. The Lie Maker',\n",
       " '18. Astor',\n",
       " '19. Demon Copperhead',\n",
       " '20. Homecoming']"
      ]
     },
     "execution_count": 38,
     "metadata": {},
     "output_type": "execute_result"
    }
   ],
   "source": [
    "box_items = WebDriverWait(driver=web_driver, timeout=5).until(EC.presence_of_element_located((By.XPATH, '//div[@class=\"adbl-impression-container \"]')))\n",
    "books_item = WebDriverWait(driver=box_items, timeout=5).until(EC.presence_of_all_elements_located((By.XPATH, './/li[contains(@class, \"productListItem\")]')))\n",
    "\n",
    "books_title = []\n",
    "books_author = []\n",
    "books_length = []\n",
    "\n",
    "for book in books_item:\n",
    "    books_title.append(book.find_element(By.XPATH, './/h3[contains(@class, \"bc-heading\")]').text)\n",
    "\n",
    "books_title"
   ]
  },
  {
   "cell_type": "code",
   "execution_count": null,
   "metadata": {},
   "outputs": [],
   "source": []
  }
 ],
 "metadata": {
  "kernelspec": {
   "display_name": "Python 3",
   "language": "python",
   "name": "python3"
  },
  "language_info": {
   "codemirror_mode": {
    "name": "ipython",
    "version": 3
   },
   "file_extension": ".py",
   "mimetype": "text/x-python",
   "name": "python",
   "nbconvert_exporter": "python",
   "pygments_lexer": "ipython3",
   "version": "3.10.4"
  },
  "orig_nbformat": 4
 },
 "nbformat": 4,
 "nbformat_minor": 2
}
