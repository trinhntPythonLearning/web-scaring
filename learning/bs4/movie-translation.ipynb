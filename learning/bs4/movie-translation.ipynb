{
 "cells": [
  {
   "cell_type": "code",
   "execution_count": 27,
   "metadata": {},
   "outputs": [],
   "source": [
    "import requests\n",
    "from bs4 import BeautifulSoup"
   ]
  },
  {
   "cell_type": "code",
   "execution_count": 28,
   "metadata": {},
   "outputs": [],
   "source": [
    "root_link = 'https://subslikescript.com'"
   ]
  },
  {
   "cell_type": "markdown",
   "metadata": {},
   "source": [
    "Get name and title of movie  \n",
    "Store to text file"
   ]
  },
  {
   "cell_type": "code",
   "execution_count": 29,
   "metadata": {},
   "outputs": [],
   "source": [
    "def get_movie_info(movie_link):\n",
    "    print('Get movie link: ', movie_link)\n",
    "    try:\n",
    "        movie_page = requests.get(movie_link)\n",
    "        movie_soup = BeautifulSoup(movie_page.content, 'html.parser')\n",
    "\n",
    "        box_item = movie_soup.find('article', class_='main-article')\n",
    "\n",
    "        movie_name = box_item.find('h1').get_text()\n",
    "        movie_title = box_item.find('p', class_='plot').get_text()\n",
    "\n",
    "        file_name = f'{movie_name}.txt'\n",
    "        with open(file=file_name, mode='w') as file:\n",
    "            file.write(movie_title)\n",
    "    except:\n",
    "        print(\"Link is error\")\n"
   ]
  },
  {
   "cell_type": "markdown",
   "metadata": {},
   "source": [
    "Get movie info with a link"
   ]
  },
  {
   "cell_type": "code",
   "execution_count": 30,
   "metadata": {},
   "outputs": [
    {
     "name": "stdout",
     "output_type": "stream",
     "text": [
      "Get movie link:  https://subslikescript.com/movie/Cet_t-l-15783304\n"
     ]
    }
   ],
   "source": [
    "movie_link = f'{root_link}/movie/Cet_t-l-15783304'\n",
    "\n",
    "get_movie_info(movie_link)"
   ]
  },
  {
   "cell_type": "markdown",
   "metadata": {},
   "source": [
    "Dealing with all links of the page"
   ]
  },
  {
   "cell_type": "code",
   "execution_count": 43,
   "metadata": {},
   "outputs": [],
   "source": [
    "def get_movies_one_page(page_link):\n",
    "    print('get_movies_one_page: ', page_link)\n",
    "    page_req = requests.get(page_link)\n",
    "    page_soup = BeautifulSoup(page_req.content, 'html.parser')\n",
    "\n",
    "    box_item = page_soup.find('article', class_='main-article')\n",
    "    movie_links = box_item.find_all('a')\n",
    "\n",
    "    # Dummy get only 2 item per page\n",
    "    for link in movie_links[:2]:\n",
    "        movie_link = link.get('href')\n",
    "        movie_link = f'{root_link}/{movie_link}'\n",
    "        get_movie_info(movie_link)\n"
   ]
  },
  {
   "cell_type": "code",
   "execution_count": 44,
   "metadata": {},
   "outputs": [
    {
     "name": "stdout",
     "output_type": "stream",
     "text": [
      "get_movies_one_page:  https://subslikescript.com/movies\n",
      "Get movie link:  https://subslikescript.com/movie/Cascade-12180508\n",
      "Get movie link:  https://subslikescript.com/movie/Cet_t-l-15783304\n"
     ]
    }
   ],
   "source": [
    "page_link = f'{root_link}/movies'\n",
    "get_movies_one_page(page_link)"
   ]
  },
  {
   "cell_type": "markdown",
   "metadata": {},
   "source": [
    "Dealing with multi-pages"
   ]
  },
  {
   "cell_type": "code",
   "execution_count": 45,
   "metadata": {},
   "outputs": [
    {
     "name": "stdout",
     "output_type": "stream",
     "text": [
      "Actual number of page:  1791\n",
      "get_movies_one_page:  https://subslikescript.com/movies?page=1\n",
      "Get movie link:  https://subslikescript.com/movie/Cascade-12180508\n",
      "Get movie link:  https://subslikescript.com/movie/Cet_t-l-15783304\n",
      "get_movies_one_page:  https://subslikescript.com/movies?page=2\n",
      "Get movie link:  https://subslikescript.com/movie/Ruby_Gillman_Teenage_Kraken-27155038\n",
      "Get movie link:  https://subslikescript.com/movie/Scrooge-26972\n",
      "get_movies_one_page:  https://subslikescript.com/movies?page=3\n",
      "Get movie link:  https://subslikescript.com/movie/Fa_cai_lian_meng-24973372\n",
      "Get movie link:  https://subslikescript.com/movie/Agnes_Browne-160509\n",
      "get_movies_one_page:  https://subslikescript.com/movies?page=4\n",
      "Get movie link:  https://subslikescript.com/movie/Private_Parts-69124\n",
      "Get movie link:  https://subslikescript.com/movie/Interdit_aux_chiens_et_aux_Italiens-12826598\n",
      "get_movies_one_page:  https://subslikescript.com/movies?page=5\n",
      "Get movie link:  https://subslikescript.com/movie/Something_To_Live_For-9348582\n",
      "Get movie link:  https://subslikescript.com/movie/Honeymoon_in_Bali-31440\n",
      "get_movies_one_page:  https://subslikescript.com/movies?page=6\n",
      "Get movie link:  https://subslikescript.com/movie/Profound_Desires_of_the_Gods-63173\n",
      "Get movie link:  https://subslikescript.com/movie/Chromeskull_Laid_to_Rest_2-1792799\n",
      "get_movies_one_page:  https://subslikescript.com/movies?page=7\n",
      "Get movie link:  https://subslikescript.com/movie/4_for_Texas-57071\n",
      "Get movie link:  https://subslikescript.com/movie/Strength_of_a_Woman-27230205\n",
      "get_movies_one_page:  https://subslikescript.com/movies?page=8\n",
      "Get movie link:  https://subslikescript.com/movie/Chithiram_Pesuthadi-2325589\n",
      "Get movie link:  https://subslikescript.com/movie/The_Nutty_Professor-57372\n",
      "get_movies_one_page:  https://subslikescript.com/movies?page=9\n",
      "Get movie link:  https://subslikescript.com/movie/I_Like_Movies-14913282\n",
      "Get movie link:  https://subslikescript.com/movie/The_Honey-Mousers-49325\n",
      "get_movies_one_page:  https://subslikescript.com/movies?page=10\n",
      "Get movie link:  https://subslikescript.com/movie/Zerophilia-421090\n",
      "Get movie link:  https://subslikescript.com/movie/Topology_of_Sirens-10631206\n"
     ]
    }
   ],
   "source": [
    "root_page_link = f'{root_link}/movies'\n",
    "\n",
    "root_req = requests.get(root_page_link)\n",
    "root_soup = BeautifulSoup(root_req.content, 'html.parser')\n",
    "pages_item = root_soup.find('ul', class_='pagination')\n",
    "\n",
    "all_pages = pages_item.find_all('li')\n",
    "page_nums = int(all_pages[-2].get_text())\n",
    "\n",
    "print(\"Actual number of page: \", page_nums)\n",
    "\n",
    "# Dummy for only 10 first pages\n",
    "page_nums = 10 if page_nums > 10 else page_nums\n",
    "\n",
    "for page_iter in range(1, page_nums + 1):\n",
    "    page_link = f'{root_link}/movies?page={page_iter}'\n",
    "    get_movies_one_page(page_link)"
   ]
  },
  {
   "cell_type": "code",
   "execution_count": null,
   "metadata": {},
   "outputs": [],
   "source": []
  }
 ],
 "metadata": {
  "kernelspec": {
   "display_name": "Python 3",
   "language": "python",
   "name": "python3"
  },
  "language_info": {
   "codemirror_mode": {
    "name": "ipython",
    "version": 3
   },
   "file_extension": ".py",
   "mimetype": "text/x-python",
   "name": "python",
   "nbconvert_exporter": "python",
   "pygments_lexer": "ipython3",
   "version": "3.8.10"
  },
  "orig_nbformat": 4
 },
 "nbformat": 4,
 "nbformat_minor": 2
}
