{
 "cells": [
  {
   "cell_type": "markdown",
   "metadata": {},
   "source": [
    "This example is used to:  \n",
    "- Visit website data of all football matches: https://www.adamchoi.co.uk/overs/detailed\n",
    "- Scraping data and store to csv file   \n",
    "\n",
    "Before using selenium, need to install selenium module and webdriver (chromedriver)"
   ]
  },
  {
   "cell_type": "code",
   "execution_count": 45,
   "metadata": {},
   "outputs": [],
   "source": [
    "from selenium import webdriver\n",
    "from selenium.webdriver.chrome.service import Service\n",
    "from selenium.webdriver.common.by import By\n",
    "\n",
    "import pandas as pd\n",
    "\n",
    "url = 'https://www.adamchoi.co.uk/overs/detailed'\n",
    "\n",
    "driver_path = r'D:\\Project\\Python\\chrome-driver\\chromedriver-win64\\chromedriver.exe'\n",
    "service = Service(executable_path=driver_path)\n",
    "driver = webdriver.Chrome(service=service)\n",
    "driver.get(url)"
   ]
  },
  {
   "cell_type": "markdown",
   "metadata": {},
   "source": [
    "Automate click button\n",
    "Find item by xpath"
   ]
  },
  {
   "cell_type": "code",
   "execution_count": 46,
   "metadata": {},
   "outputs": [],
   "source": [
    "all_matches_btn = driver.find_element(by=By.XPATH, value='//label[@analytics-event=\"All matches\"]')\n",
    "\n",
    "all_matches_btn.click()"
   ]
  },
  {
   "cell_type": "markdown",
   "metadata": {},
   "source": [
    "Working with dropdown menu  \n",
    "Using Select() module"
   ]
  },
  {
   "cell_type": "code",
   "execution_count": 47,
   "metadata": {},
   "outputs": [
    {
     "name": "stdout",
     "output_type": "stream",
     "text": [
      "['England', 'Spain', 'Germany', 'Italy', 'France', 'Scotland', 'Netherlands', 'Portugal', 'Turkey', 'Greece', 'Belgium', 'Brazil', 'Austria', 'Russia', 'Argentina', 'Denmark', 'Poland', 'USA', 'Norway', 'Sweden', 'Finland', 'Switzerland', 'Australia', 'Japan', 'China', 'Mexico', 'Ukraine', 'Czechia', 'Saudi Arabia']\n"
     ]
    }
   ],
   "source": [
    "from selenium.webdriver.support.select import Select\n",
    "\n",
    "country_dropdow = driver.find_element(By.ID, 'country')\n",
    "countries_list = country_dropdow.find_elements(By.TAG_NAME, 'option')\n",
    "\n",
    "countries_label = []\n",
    "for cnt in countries_list:\n",
    "    countries_label.append(cnt.text) \n",
    "\n",
    "print(countries_label)\n",
    "\n",
    "country_dropdow = Select(country_dropdow)\n",
    "country_dropdow.select_by_visible_text('Germany')"
   ]
  },
  {
   "cell_type": "markdown",
   "metadata": {},
   "source": [
    "Export all data matches to file with pandas"
   ]
  },
  {
   "cell_type": "code",
   "execution_count": 48,
   "metadata": {},
   "outputs": [
    {
     "name": "stdout",
     "output_type": "stream",
     "text": [
      "         date      home_team  score    away_team\n",
      "0  19-08-2023       Augsburg  4 - 4  M''gladbach\n",
      "1  27-08-2023  Bayern Munich  3 - 1     Augsburg\n",
      "2  02-09-2023       Augsburg  2 - 2       Bochum\n",
      "3  16-09-2023     RB Leipzig  3 - 0     Augsburg\n",
      "4  23-09-2023       Augsburg  ? - ?        Mainz\n"
     ]
    }
   ],
   "source": [
    "# Wait ~3s for webpage is loaded after selecting country dropdow\n",
    "import time\n",
    "time.sleep(2)\n",
    "\n",
    "matches_data = driver.find_elements(By.TAG_NAME, 'tr')\n",
    "\n",
    "dates = []\n",
    "home_team = []\n",
    "score = []\n",
    "away_team = []\n",
    "\n",
    "\n",
    "for match in matches_data:\n",
    "    dates.append(match.find_element(By.XPATH, './td[1]').text)\n",
    "    home_team.append(match.find_element(By.XPATH, './td[2]').text)\n",
    "    score.append(match.find_element(By.XPATH, './td[3]').text)\n",
    "    away_team.append(match.find_element(By.XPATH, './td[4]').text)\n",
    "\n",
    "data_dict = {\n",
    "    'date': dates,\n",
    "    'home_team': home_team,\n",
    "    'score': score,\n",
    "    'away_team': away_team\n",
    "}\n",
    "\n",
    "matches_df = pd.DataFrame(data=data_dict)\n",
    "\n",
    "print(matches_df.head())\n",
    "\n",
    "matches_df.to_csv('football_data.csv', header=True)"
   ]
  },
  {
   "cell_type": "code",
   "execution_count": null,
   "metadata": {},
   "outputs": [],
   "source": [
    "driver.quit()"
   ]
  }
 ],
 "metadata": {
  "kernelspec": {
   "display_name": "Python 3",
   "language": "python",
   "name": "python3"
  },
  "language_info": {
   "codemirror_mode": {
    "name": "ipython",
    "version": 3
   },
   "file_extension": ".py",
   "mimetype": "text/x-python",
   "name": "python",
   "nbconvert_exporter": "python",
   "pygments_lexer": "ipython3",
   "version": "3.10.4"
  },
  "orig_nbformat": 4
 },
 "nbformat": 4,
 "nbformat_minor": 2
}
