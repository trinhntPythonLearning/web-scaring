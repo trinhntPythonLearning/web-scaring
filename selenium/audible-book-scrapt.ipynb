{
 "cells": [
  {
   "cell_type": "code",
   "execution_count": 1,
   "metadata": {},
   "outputs": [],
   "source": [
    "from selenium import webdriver\n",
    "from selenium.webdriver.chrome.service import Service\n",
    "from selenium.webdriver.common.by import By\n",
    "from selenium.webdriver.chrome.options import Options\n",
    "from selenium.webdriver.support.ui import WebDriverWait\n",
    "from selenium.webdriver.support import expected_conditions as EC\n",
    "import re\n",
    "import pandas as pd"
   ]
  },
  {
   "cell_type": "code",
   "execution_count": 2,
   "metadata": {},
   "outputs": [],
   "source": [
    "# Top best seller\n",
    "root_url = 'https://www.audible.com/adblbestsellers?ref_pageloadid=zczZf55x7irPQP6H&ref=a_ep_audiob_t1_navTop_pl0cg1c0r0&pf_rd_p=371ebad3-b9dd-4d26-9542-89be13712099&pf_rd_r=GK9A8SEXM19V3AWX31BX&pageLoadId=LXiG5fyDg2ousK0L&creativeId=711b5140-9c53-4812-acee-f4c553eb51fe'\n",
    "\n",
    "chrome_driver_path = r'D:\\Project\\Python\\chrome-driver\\chromedriver-win64\\chromedriver.exe'\n",
    "web_service = Service(executable_path=chrome_driver_path)\n",
    "\n",
    "# Configure web driver\n",
    "web_option = Options()\n",
    "web_option.add_argument(\"--headless\")  # hide GUI\n",
    "web_option.add_argument(\"--window-size=1920,1080\")  # set window size to native GUI size\n",
    "web_option.add_argument(\"start-maximized\")  # ensure window is full-screen\n",
    "\n",
    "web_driver = webdriver.Chrome(service=web_service, options=web_option)\n",
    "web_driver.get(url=root_url)"
   ]
  },
  {
   "cell_type": "code",
   "execution_count": 3,
   "metadata": {},
   "outputs": [
    {
     "name": "stdout",
     "output_type": "stream",
     "text": [
      "Number of pages:  5\n",
      "Scraping page:  1\n",
      "Scraping page:  2\n",
      "Scraping page:  3\n",
      "Scraping page:  4\n",
      "Scraping page:  5\n"
     ]
    }
   ],
   "source": [
    "paging_item = web_driver.find_elements(by=By.XPATH, value='//ul[contains(@class, \"pagingElements\")]//li')\n",
    "\n",
    "page_numbers = int(paging_item[-2].text)\n",
    "print('Number of pages: ', page_numbers)\n",
    "\n",
    "books_title = []\n",
    "books_author = []\n",
    "books_length = []\n",
    "\n",
    "# for in range of pages\n",
    "for page in range(1, page_numbers + 1):\n",
    "    print(\"Scraping page: \", page)\n",
    "\n",
    "    box_items = WebDriverWait(driver=web_driver, timeout=10).until(EC.presence_of_element_located((By.XPATH, '//div[@class=\"adbl-impression-container \"]')))\n",
    "    books_item = WebDriverWait(driver=box_items, timeout=10).until(EC.presence_of_all_elements_located((By.XPATH, './/li[contains(@class, \"productListItem\")]')))\n",
    "\n",
    "    for book in books_item:\n",
    "        book_title = book.find_element(By.XPATH, './/h3[contains(@class, \"bc-heading\")]').text\n",
    "        book_title = re.sub('\\d+\\.\\s', '', book_title)\n",
    "        books_title.append(book_title)\n",
    "        books_author.append(book.find_element(By.XPATH, './/li[contains(@class, \"authorLabel\")]').text.replace('By: ', \"\"))\n",
    "        books_length.append(book.find_element(By.XPATH, './/li[contains(@class, \"runtimeLabel\")]').text.replace('Length: ', ''))\n",
    "\n",
    "    # Click to next page\n",
    "    next_item = web_driver.find_element(By.XPATH, '//span[contains(@class, \"nextButton\")]')\n",
    "    next_item.click()\n",
    "\n",
    "books_df = pd.DataFrame({'title': books_title, 'author': books_author, 'length': books_length})\n",
    "books_df.to_csv('book_data.csv')"
   ]
  },
  {
   "cell_type": "code",
   "execution_count": 4,
   "metadata": {},
   "outputs": [],
   "source": [
    "web_driver.quit()"
   ]
  },
  {
   "cell_type": "code",
   "execution_count": null,
   "metadata": {},
   "outputs": [],
   "source": []
  }
 ],
 "metadata": {
  "kernelspec": {
   "display_name": "Python 3",
   "language": "python",
   "name": "python3"
  },
  "language_info": {
   "codemirror_mode": {
    "name": "ipython",
    "version": 3
   },
   "file_extension": ".py",
   "mimetype": "text/x-python",
   "name": "python",
   "nbconvert_exporter": "python",
   "pygments_lexer": "ipython3",
   "version": "3.10.4"
  },
  "orig_nbformat": 4
 },
 "nbformat": 4,
 "nbformat_minor": 2
}
