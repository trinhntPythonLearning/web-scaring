{
 "cells": [
  {
   "cell_type": "code",
   "execution_count": 1,
   "metadata": {},
   "outputs": [],
   "source": [
    "from selenium import webdriver\n",
    "from selenium.webdriver.chrome.service import Service\n",
    "from selenium.webdriver.common.by import By\n",
    "from selenium.webdriver.chrome.options import Options"
   ]
  },
  {
   "cell_type": "code",
   "execution_count": 2,
   "metadata": {},
   "outputs": [],
   "source": [
    "instagram_url = 'https://www.instagram.com/'\n",
    "chromedriver_path = r'D:\\Project\\Python\\chrome-driver\\chromedriver-win64\\chromedriver.exe'\n",
    "\n",
    "web_service = Service(executable_path=chromedriver_path)\n",
    "web_driver = webdriver.Chrome(service=web_service, options=None)\n",
    "web_driver.maximize_window()\n",
    "\n",
    "web_driver.get(url=instagram_url)"
   ]
  },
  {
   "cell_type": "code",
   "execution_count": 11,
   "metadata": {},
   "outputs": [],
   "source": [
    "login_form = web_driver.find_element(by=By.XPATH, value='//form[@id=\"loginForm\"]')\n",
    "\n",
    "\n",
    "user_name_item = login_form.find_element(by=By.XPATH, value='.//input[@name=\"username\"]')\n",
    "password_item = login_form.find_element(by=By.XPATH, value='.//input[@name=\"password\"]')\n",
    "\n",
    "# Set text for input item\n",
    "user_name_item.send_keys(\"email\")\n",
    "password_item.send_keys(\"password\")\n",
    "\n",
    "login_btn = login_form.find_element(By.XPATH, './/button[@type=\"submit\"]')\n",
    "login_btn.click()"
   ]
  },
  {
   "cell_type": "code",
   "execution_count": 13,
   "metadata": {},
   "outputs": [],
   "source": [
    "web_driver.execute_script('window.scrollTo(0, document.body.scrollHeight);')\n",
    "import time\n",
    "time.sleep(4)"
   ]
  },
  {
   "cell_type": "code",
   "execution_count": 14,
   "metadata": {},
   "outputs": [],
   "source": [
    "web_driver.quit()"
   ]
  },
  {
   "cell_type": "code",
   "execution_count": null,
   "metadata": {},
   "outputs": [],
   "source": []
  }
 ],
 "metadata": {
  "kernelspec": {
   "display_name": "Python 3",
   "language": "python",
   "name": "python3"
  },
  "language_info": {
   "codemirror_mode": {
    "name": "ipython",
    "version": 3
   },
   "file_extension": ".py",
   "mimetype": "text/x-python",
   "name": "python",
   "nbconvert_exporter": "python",
   "pygments_lexer": "ipython3",
   "version": "3.10.4"
  },
  "orig_nbformat": 4
 },
 "nbformat": 4,
 "nbformat_minor": 2
}
